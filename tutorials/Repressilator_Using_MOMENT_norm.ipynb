{
  "cells": [
    {
      "cell_type": "markdown",
      "metadata": {
        "id": "-loFVN9zsuAH"
      },
      "source": [
        "<h1> Using MOMENT for Forecasting </h1>\n",
        "<hr>"
      ]
    },
    {
      "cell_type": "markdown",
      "metadata": {
        "id": "gYRUFHiAsuAI"
      },
      "source": [
        "## Contents\n",
        "### 1. A Quick Introduction to Forecasting\n",
        "### 2. Loading MOMENT\n",
        "### 3. Inputs and Outputs\n",
        "### 4. Training the Forecasting Head"
      ]
    },
    {
      "cell_type": "markdown",
      "metadata": {
        "id": "t_zS5-u7suAI"
      },
      "source": [
        "## 1. A Quick Introduction to Forecasting"
      ]
    },
    {
      "cell_type": "markdown",
      "metadata": {
        "id": "WO0pOKlAsuAJ"
      },
      "source": [
        "Time series forecasting is another popular modeling task that involves predicting future values of a time series based on its historical patterns. For instance, in the context of stock market data, forecasting aims to estimate the future stock prices by analyzing past price movements and other relevant factors. In this tutorial, we will explore how to use MOMENT to tackle the time series forecasting in linearly probed setting. Mathematically, the time series forecasting problem can be defined as follows:"
      ]
    },
    {
      "cell_type": "markdown",
      "metadata": {
        "id": "TVlOtNaKsuAJ"
      },
      "source": [
        "**Problem**: Given a time-series $T = [x_1, ..., x_L], \\ x_i \\in \\mathbb{R}^{C}$ of length $L$ with $C$ channels (sensors or variables), the forecasting problem is to predict the next $H$ time-steps $[x_{L+1}, \\dots, x_{L+H}]$. Depending on the length of the horizon, forecasting can be categorized as short or long-horizon"
      ]
    },
    {
      "cell_type": "markdown",
      "metadata": {
        "id": "IkJ6MdrqsuAJ"
      },
      "source": [
        "## 2. Loading MOMENT\n",
        "\n",
        "We will first install the MOMENT package, load some essential packages and the pre-trained model.\n",
        "\n",
        "MOMENT can be loaded in 4 modes: (1) `reconstruction`, (2) `embedding`, (3) `forecasting`, and (4) `classification`.\n",
        "\n",
        "In the `reconstruction` mode, MOMENT reconstructs input time series, potentially containing missing values. We can solve imputation and anomaly detection problems in this mode. This mode is suitable for solving imputation and anomaly detection tasks. During pre-training, MOMENT is trained to predict the missing values within uniformly randomly masked patches (disjoint sub-sequences) of the input time series, leveraging information from observed data in other patches. As a result, MOMENT comes equipped with a pre-trained reconstruction head, enabling it to address imputation and anomaly detection challenges in a zero-shot manner! Check out the `anomaly_detection.ipynb` and `imputation.ipynb` notebooks for more details!\n",
        "\n",
        "In the `embedding model`, MOMENT learns a $d$-dimensional embedding (e.g., $d=1024$ for `MOMENT-1-large`) for each input time series. These embeddings can be used for clustering and classification. MOMENT can learn embeddings in a zero-shot setting! Check out `representation_learning.ipynb` notebook for more details!\n",
        "\n",
        "The `forecasting` and `classification` modes are used for forecasting and classification tasks, respectively. In these modes, MOMENT learns representations which are subsequently mapped to the forecast horizon or the number of classes, using linear forecasting and classification heads. Both the forecasting and classification head are randomly initialized, and therefore must be fine-tuned before use. Check out the `forecasting.ipynb` notebook for more details!"
      ]
    },
    {
      "cell_type": "code",
      "execution_count": 1,
      "metadata": {},
      "outputs": [
        {
          "name": "stderr",
          "output_type": "stream",
          "text": [
            "/home/mohammed/miniconda3/envs/moment/lib/python3.11/site-packages/tqdm/auto.py:21: TqdmWarning: IProgress not found. Please update jupyter and ipywidgets. See https://ipywidgets.readthedocs.io/en/stable/user_install.html\n",
            "  from .autonotebook import tqdm as notebook_tqdm\n",
            "/home/mohammed/miniconda3/envs/moment/lib/python3.11/site-packages/transformers/utils/generic.py:311: UserWarning: torch.utils._pytree._register_pytree_node is deprecated. Please use torch.utils._pytree.register_pytree_node instead.\n",
            "  torch.utils._pytree._register_pytree_node(\n"
          ]
        }
      ],
      "source": [
        "import momentfm"
      ]
    },
    {
      "cell_type": "code",
      "execution_count": 2,
      "metadata": {
        "colab": {
          "base_uri": "https://localhost:8080/",
          "height": 234,
          "referenced_widgets": [
            "a67f290b04f341d0b8724d6d1dd6d01b",
            "03ad58a038e94907bde6cedcecc794ac",
            "b9213aec55ec4f3cb0af2b824ef2cfe7",
            "985435b5c54d412584900063d3158957",
            "e610afe9dd40423998a599e7bec8796e",
            "4166c08d50624169b1001c50ab535564",
            "33a4774740e94bd09830a514e956b45e",
            "79f4a60588f64799be5fb9a15bf9ab74",
            "052fabc694c24d41b50e3724085c8ab4",
            "fde739e405d04e929c10aaee5eca05fa",
            "d68afef6026b4a769a2aea5513b1c5ab",
            "b462eca57f1549c5af7ba1957ada5b89",
            "3b740823c79a408eba128ec89d282eef",
            "7fa7a77301cb44b39129f90462454a4b",
            "df25d5541edf4facb6cf69b6ece2f60f",
            "88f6336c80a248bdbc51b74773e1d783",
            "c16e8133f808481e844a92c6bc2a32be",
            "dc08fcbccf914afd81a1f8850496e3a7",
            "b6cb3deecb31429982437dbee22c2e72",
            "9346ca79bcb34c87904c06e5ebe9c2e6",
            "661e071142d3438f8fdbcebff30215ea",
            "26a6c1b399f944989255512d752dd556",
            "44990087688b4df38620125c2e29ef73",
            "5decba9a8f834c6e88ffcbd6caa2e863",
            "031cd9e2cd7244848e90227e38590b08",
            "7341ea2d494a47d0a1716389e5eebebd",
            "7a4d617090cf43999be6fe39b163212f",
            "d3d028fe99f4446680ceab149fd5b854",
            "32ff8383064a428aa3741daad4bfbe06",
            "70339bc5e5de449488121602c1da12da",
            "f6faa489f347463d8b94b1fb3210de25",
            "5421fb8f99f44f54a410ed7a16384519",
            "507186949d294bb684284b8871941129",
            "e4ac84277ffb4f56949bb925c5c5e843",
            "654f7d1c0aa24cb7bc2152cdf9f11b83",
            "3c652b222f5b4c12ab03aa88b89b5046",
            "e9077ed670d44f6080e0cf0b8127e100",
            "79a507e552a3440a8d5b2b5430d3f4a0",
            "ca0586c5f1c14051a1e43087abb84dfb",
            "03c6fb90dfd5438b8a3b37c88ceab0c5",
            "dd3b0597c4874fcdb7f18255bd6d90c4",
            "6228f28b815c4e4aa581620a636a14c5",
            "14b20fe5fe5549818c2e1948408a18fe",
            "1da402e29b9a4d778a584cd464c75c12"
          ]
        },
        "id": "V4FNttQ_suAK",
        "outputId": "72cfa39d-32b3-4dca-9a2b-a4c62226a5ce"
      },
      "outputs": [],
      "source": [
        "from momentfm import MOMENTPipeline\n",
        "\n",
        "model = MOMENTPipeline.from_pretrained(\n",
        "    \"AutonLab/MOMENT-1-large\",\n",
        "    model_kwargs={\n",
        "        'task_name': 'forecasting',\n",
        "        'forecast_horizon': 192,\n",
        "        'head_dropout': 0.1,\n",
        "        'weight_decay': 0,\n",
        "        'freeze_encoder': True, # Freeze the patch embedding layer\n",
        "        'freeze_embedder': True, # Freeze the transformer encoder\n",
        "        'freeze_head': False, # The linear forecasting head must be trained\n",
        "    },\n",
        ")"
      ]
    },
    {
      "cell_type": "code",
      "execution_count": 3,
      "metadata": {
        "colab": {
          "base_uri": "https://localhost:8080/"
        },
        "id": "aqd23DbZsuAK",
        "outputId": "ba808190-594e-4d97-a9a0-1c0d1074dd82"
      },
      "outputs": [
        {
          "name": "stdout",
          "output_type": "stream",
          "text": [
            "MOMENTPipeline(\n",
            "  (normalizer): RevIN()\n",
            "  (tokenizer): Patching()\n",
            "  (patch_embedding): PatchEmbedding(\n",
            "    (value_embedding): Linear(in_features=8, out_features=1024, bias=False)\n",
            "    (position_embedding): PositionalEmbedding()\n",
            "    (dropout): Dropout(p=0.1, inplace=False)\n",
            "  )\n",
            "  (encoder): T5Stack(\n",
            "    (embed_tokens): Embedding(32128, 1024)\n",
            "    (block): ModuleList(\n",
            "      (0): T5Block(\n",
            "        (layer): ModuleList(\n",
            "          (0): T5LayerSelfAttention(\n",
            "            (SelfAttention): T5Attention(\n",
            "              (q): Linear(in_features=1024, out_features=1024, bias=False)\n",
            "              (k): Linear(in_features=1024, out_features=1024, bias=False)\n",
            "              (v): Linear(in_features=1024, out_features=1024, bias=False)\n",
            "              (o): Linear(in_features=1024, out_features=1024, bias=False)\n",
            "              (relative_attention_bias): Embedding(32, 16)\n",
            "            )\n",
            "            (layer_norm): T5LayerNorm()\n",
            "            (dropout): Dropout(p=0.1, inplace=False)\n",
            "          )\n",
            "          (1): T5LayerFF(\n",
            "            (DenseReluDense): T5DenseGatedActDense(\n",
            "              (wi_0): Linear(in_features=1024, out_features=2816, bias=False)\n",
            "              (wi_1): Linear(in_features=1024, out_features=2816, bias=False)\n",
            "              (wo): Linear(in_features=2816, out_features=1024, bias=False)\n",
            "              (dropout): Dropout(p=0.1, inplace=False)\n",
            "              (act): NewGELUActivation()\n",
            "            )\n",
            "            (layer_norm): T5LayerNorm()\n",
            "            (dropout): Dropout(p=0.1, inplace=False)\n",
            "          )\n",
            "        )\n",
            "      )\n",
            "      (1-23): 23 x T5Block(\n",
            "        (layer): ModuleList(\n",
            "          (0): T5LayerSelfAttention(\n",
            "            (SelfAttention): T5Attention(\n",
            "              (q): Linear(in_features=1024, out_features=1024, bias=False)\n",
            "              (k): Linear(in_features=1024, out_features=1024, bias=False)\n",
            "              (v): Linear(in_features=1024, out_features=1024, bias=False)\n",
            "              (o): Linear(in_features=1024, out_features=1024, bias=False)\n",
            "            )\n",
            "            (layer_norm): T5LayerNorm()\n",
            "            (dropout): Dropout(p=0.1, inplace=False)\n",
            "          )\n",
            "          (1): T5LayerFF(\n",
            "            (DenseReluDense): T5DenseGatedActDense(\n",
            "              (wi_0): Linear(in_features=1024, out_features=2816, bias=False)\n",
            "              (wi_1): Linear(in_features=1024, out_features=2816, bias=False)\n",
            "              (wo): Linear(in_features=2816, out_features=1024, bias=False)\n",
            "              (dropout): Dropout(p=0.1, inplace=False)\n",
            "              (act): NewGELUActivation()\n",
            "            )\n",
            "            (layer_norm): T5LayerNorm()\n",
            "            (dropout): Dropout(p=0.1, inplace=False)\n",
            "          )\n",
            "        )\n",
            "      )\n",
            "    )\n",
            "    (final_layer_norm): T5LayerNorm()\n",
            "    (dropout): Dropout(p=0.1, inplace=False)\n",
            "  )\n",
            "  (head): ForecastingHead(\n",
            "    (flatten): Flatten(start_dim=-2, end_dim=-1)\n",
            "    (dropout): Dropout(p=0.1, inplace=False)\n",
            "    (linear): Linear(in_features=65536, out_features=192, bias=True)\n",
            "  )\n",
            ")\n"
          ]
        }
      ],
      "source": [
        "model.init()\n",
        "print(model)"
      ]
    },
    {
      "cell_type": "code",
      "execution_count": 4,
      "metadata": {
        "colab": {
          "base_uri": "https://localhost:8080/"
        },
        "id": "iQvBkdyYsuAK",
        "outputId": "a8b48cfe-3950-40ef-dbed-68ca34afaf61"
      },
      "outputs": [
        {
          "name": "stdout",
          "output_type": "stream",
          "text": [
            "Unfrozen parameters:\n",
            "     head.linear.weight\n",
            "     head.linear.bias\n"
          ]
        }
      ],
      "source": [
        "print(\"Unfrozen parameters:\")\n",
        "for name, param in model.named_parameters():\n",
        "    if param.requires_grad:\n",
        "        print('    ', name)"
      ]
    },
    {
      "cell_type": "markdown",
      "metadata": {
        "id": "eN80ltY5x0yD"
      },
      "source": [
        "## Data Preparation"
      ]
    },
    {
      "cell_type": "markdown",
      "metadata": {},
      "source": [
        "### This code is for changing the hdf5 files into excel"
      ]
    },
    {
      "cell_type": "code",
      "execution_count": 12,
      "metadata": {
        "id": "ftv4J6nyyN_D"
      },
      "outputs": [],
      "source": [
        "# read hdf5 file using h5py and transform it into csv file\n",
        "import numpy as np\n",
        "import h5py\n",
        "import pandas as pd\n",
        "\n",
        "# Validation Data\n",
        "with h5py.File('./data/Repressilator_valid.hdf5', 'r') as f:\n",
        "    # List all groups\n",
        "    #print(\"Keys: %s\" % f.keys())\n",
        "\n",
        "    # make an empty numpy array\n",
        "    data = np.array([['mRNA1', 'mRNA2', 'mRNA3', 'Protein1', 'Protein2', 'Protein3']])\n",
        "    for key in f.keys():\n",
        "        new_data = np.array(f[key])\n",
        "        data = np.append(data, new_data[:1024], axis=0)\n",
        "\n",
        "    # convert the numpy array to a pandas dataframe and the first row to the header\n",
        "    df = pd.DataFrame(data=data[1:,0:], columns=data[0,0:])\n",
        "\n",
        "    # save the dataframe to a csv file\n",
        "    df.to_csv('./data/Repressilator_validation.csv', index=False)\n",
        "\n",
        "# Training Data\n",
        "with h5py.File('./data/Repressilator_training.hdf5', 'r') as f:\n",
        "    # List all groups\n",
        "    #print(\"Keys: %s\" % f.keys())\n",
        "\n",
        "    # make an empty numpy array\n",
        "    data = np.array([['mRNA1', 'mRNA2', 'mRNA3', 'Protein1', 'Protein2', 'Protein3']])\n",
        "    for key in f.keys():\n",
        "        new_data = np.array(f[key])\n",
        "        data = np.append(data, new_data[:1024], axis=0)\n",
        "\n",
        "    # convert the numpy array to a pandas dataframe and the first row to the header\n",
        "    df = pd.DataFrame(data=data[1:,0:], columns=data[0,0:])\n",
        "\n",
        "    # save the dataframe to a csv file\n",
        "    df.to_csv('./data/Repressilator_training.csv', index=False)"
      ]
    },
    {
      "cell_type": "markdown",
      "metadata": {
        "id": "gOWrzKPMsuAK"
      },
      "source": [
        "## 3. Inputs and Outputs\n",
        "\n",
        "Let's begin by performing a forward pass through MOMENT and examining its outputs!\n",
        "\n",
        "MOMENT takes 3 inputs:\n",
        "\n",
        "1. An input time series of length $T = 512$ timesteps and $C$ channels, and\n",
        "2. Two optional masks, both of length $T = 512$.\n",
        "    - The input mask is utilized to regulate the time steps or patches that the model should attend to. For instance, in the case of shorter time series, you may opt not to attend to padding. To implement this, you can provide an input mask with zeros in the padded locations.\n",
        "    - The second mask, referred to simply as mask, denotes masked or unobserved values. We employ mask tokens to replace all patches containing any masked time step (for further details, refer to Section 3.2 in our paper). MOMENT can attend to these mask tokens during reconstruction.\n",
        "    - By default, all time steps are observed and attended to.\n",
        "\n",
        "MOMENT returns a `TimeseriesOutputs` object. Since this is a forecasting task, it returns a `forecast` of the input."
      ]
    },
    {
      "cell_type": "code",
      "execution_count": null,
      "metadata": {
        "colab": {
          "base_uri": "https://localhost:8080/"
        },
        "id": "XgLigDvUsuAL",
        "outputId": "2d2f78ad-6bde-4602-d710-e3cf47db895e"
      },
      "outputs": [
        {
          "name": "stdout",
          "output_type": "stream",
          "text": [
            "TimeseriesOutputs(forecast=tensor([[[-0.2217, -0.0034, -0.0741,  ..., -0.0417, -0.0266, -0.0857]],\n",
            "\n",
            "        [[-0.1405,  0.0606, -0.0855,  ...,  0.0426,  0.0759, -0.0397]],\n",
            "\n",
            "        [[-0.1012,  0.0058, -0.0188,  ...,  0.0193,  0.0744, -0.0525]],\n",
            "\n",
            "        ...,\n",
            "\n",
            "        [[-0.1163, -0.0609,  0.0207,  ..., -0.0283,  0.1066,  0.0144]],\n",
            "\n",
            "        [[-0.0617,  0.1016,  0.0050,  ..., -0.1043,  0.0419, -0.0352]],\n",
            "\n",
            "        [[-0.1632,  0.0309, -0.0956,  ..., -0.0278,  0.0777, -0.0645]]],\n",
            "       grad_fn=<AddBackward0>),\n",
            "                  anomaly_scores=None,\n",
            "                  logits=None,\n",
            "                  labels=None,\n",
            "                  input_mask=tensor([[1., 1., 1.,  ..., 1., 1., 1.],\n",
            "        [1., 1., 1.,  ..., 1., 1., 1.],\n",
            "        [1., 1., 1.,  ..., 1., 1., 1.],\n",
            "        ...,\n",
            "        [1., 1., 1.,  ..., 1., 1., 1.],\n",
            "        [1., 1., 1.,  ..., 1., 1., 1.],\n",
            "        [1., 1., 1.,  ..., 1., 1., 1.]]),\n",
            "                  pretrain_mask=None,\n",
            "                  reconstruction=None,\n",
            "                  embeddings=None,\n",
            "                  metadata=None,\n",
            "                  illegal_output=False)\n"
          ]
        }
      ],
      "source": [
        "from pprint import pprint\n",
        "import torch\n",
        "\n",
        "# takes in tensor of shape [batchsize, n_channels, context_length]\n",
        "# make x in term on your data\n",
        "#x = torch.randn(16, 1, 512)\n",
        "output = model(x)\n",
        "pprint(output)"
      ]
    },
    {
      "cell_type": "markdown",
      "metadata": {
        "id": "j_eh3mIzsuAL"
      },
      "source": [
        "## 4. Training the Forecasting Head"
      ]
    },
    {
      "cell_type": "markdown",
      "metadata": {
        "id": "uYN8ElvSsuAL"
      },
      "source": [
        "MOMENT is pre-trained using a reconstruction head and a reconstruction head. To use MOMENT for forecasting, we replace the reconstruction head to a forecasting head. The forecasting head is a randomly initilized linear layer which maps MOMENT's embeddings to the forecasting horizon."
      ]
    },
    {
      "cell_type": "markdown",
      "metadata": {
        "id": "VkRq3TdVsuAL"
      },
      "source": [
        "### 4.1 Model Finetuning"
      ]
    },
    {
      "cell_type": "code",
      "execution_count": 5,
      "metadata": {
        "id": "QbZSC9zLsuAL"
      },
      "outputs": [],
      "source": [
        "import numpy as np\n",
        "import torch\n",
        "import os\n",
        "import torch.cuda.amp\n",
        "from torch.utils.data import DataLoader\n",
        "from torch.optim.lr_scheduler import OneCycleLR\n",
        "from tqdm import tqdm\n",
        "\n",
        "from momentfm.utils.utils import control_randomness\n",
        "#from momentfm.data.informer_dataset import InformerDataset\n",
        "from momentfm.utils.forecasting_metrics import get_forecasting_metrics\n",
        "\n",
        "\n"
      ]
    },
    {
      "cell_type": "markdown",
      "metadata": {},
      "source": [
        "### context 512 prediction 192 for 6 channels"
      ]
    },
    {
      "cell_type": "code",
      "execution_count": 6,
      "metadata": {
        "id": "APEMnRZY4WTb"
      },
      "outputs": [],
      "source": [
        "\n",
        "## Iformer dataset using 192 forecasting horizon and 4 timeseries for each 1024 consisting of 512 context and 192 forecasting\n",
        "from typing import Optional\n",
        "\n",
        "import numpy as np\n",
        "import pandas as pd\n",
        "from sklearn.preprocessing import StandardScaler\n",
        "\n",
        "\n",
        "class InformerDataset:\n",
        "    def __init__(\n",
        "        self,\n",
        "        forecast_horizon: Optional[int] = 192,\n",
        "        data_split: str = \"train\",\n",
        "        data_stride_len: int = 80,\n",
        "        task_name: str = \"forecasting\",\n",
        "        random_seed: int = 42,\n",
        "    ):\n",
        "        \"\"\"\n",
        "        Parameters\n",
        "        ----------\n",
        "        forecast_horizon : int\n",
        "            Length of the prediction sequence.\n",
        "        data_split : str\n",
        "            Split of the dataset, 'train' or 'test'.\n",
        "        data_stride_len : int\n",
        "            Stride length when generating consecutive\n",
        "            time series windows.\n",
        "        task_name : str\n",
        "            The task that the dataset is used for. One of\n",
        "            'forecasting', or  'imputation'.\n",
        "        random_seed : int\n",
        "            Random seed for reproducibility.\n",
        "        \"\"\"\n",
        "\n",
        "        self.seq_len = 512\n",
        "        self.forecast_horizon = forecast_horizon\n",
        "        self.full_file_path_and_name = \"/home/mohammed/moment/data/Repressilator/One_Parameter/Repressilator_training.csv\"\n",
        "        self.validation_data =\"/home/mohammed/moment/data/Repressilator/One_Parameter/Repressilator_validation.csv\"\n",
        "        self.data_split = data_split\n",
        "        self.data_stride_len = data_stride_len\n",
        "        self.task_name = task_name\n",
        "        self.random_seed = random_seed\n",
        "\n",
        "        # Read data\n",
        "        self._read_data()\n",
        "\n",
        "    def _read_data(self):\n",
        "        self.scaler = StandardScaler()\n",
        "        if self.data_split == \"train\":\n",
        "            df = pd.read_csv(self.full_file_path_and_name)\n",
        "            # calculate the mean and the standard deviation\n",
        "            #self.scaler.fit(df.values)\n",
        "        elif self.data_split == \"test\":\n",
        "            df = pd.read_csv(self.validation_data)\n",
        "        self.length_timeseries_original = df.shape[0]\n",
        "        self.n_channels = df.shape[1] - 1\n",
        "\n",
        "        df = df.infer_objects(copy=False).interpolate(method=\"cubic\")\n",
        "        if self.data_split == \"train\":\n",
        "            self.scaler.fit(df.values)\n",
        "        self.data = df.values\n",
        "        if self.data_split == \"train\":\n",
        "            self.data = self.scaler.transform(self.data)\n",
        "\n",
        "        self.length_timeseries = self.data.shape[0]\n",
        "\n",
        "    def __getitem__(self, index):\n",
        "        x = (index // 4)* 1024\n",
        "        y = (index % 4)* self.data_stride_len\n",
        "        seq_start = x+y\n",
        "        seq_end = seq_start + self.seq_len\n",
        "        input_mask = np.ones(self.seq_len)\n",
        "\n",
        "        if self.task_name == \"forecasting\":\n",
        "            pred_end = seq_end + self.forecast_horizon\n",
        "\n",
        "            if pred_end > self.length_timeseries:\n",
        "                pred_end = self.length_timeseries\n",
        "                #seq_end = seq_end - self.forecast_horizon\n",
        "                seq_end = self.length_timeseries - self.forecast_horizon\n",
        "                seq_start = seq_end - self.seq_len\n",
        "\n",
        "            timeseries = self.data[seq_start:seq_end, :].T\n",
        "            forecast = self.data[seq_end:pred_end, :].T\n",
        "\n",
        "            return timeseries, forecast, input_mask\n",
        "\n",
        "        elif self.task_name == \"imputation\":\n",
        "            if seq_end > self.length_timeseries:\n",
        "                seq_end = self.length_timeseries\n",
        "                seq_end = seq_end - self.seq_len\n",
        "\n",
        "            timeseries = self.data[seq_start:seq_end, :].T\n",
        "\n",
        "            return timeseries, input_mask\n",
        "\n",
        "    def __len__(self):\n",
        "        if self.task_name == \"imputation\":\n",
        "            return (self.length_timeseries - self.seq_len) // self.data_stride_len + 1\n",
        "        elif self.task_name == \"forecasting\":\n",
        "            return (\n",
        "                self.length_timeseries - self.seq_len - self.forecast_horizon\n",
        "            ) // self.data_stride_len + 1"
      ]
    },
    {
      "cell_type": "markdown",
      "metadata": {},
      "source": [
        "### Training"
      ]
    },
    {
      "cell_type": "code",
      "execution_count": 7,
      "metadata": {},
      "outputs": [],
      "source": [
        "# Set random seeds for PyTorch, Numpy etc.\n",
        "control_randomness(seed=13)\n",
        "\n",
        "# Load data\n",
        "train_dataset = InformerDataset(data_split=\"train\", random_seed=13, forecast_horizon=192)\n",
        "train_loader = DataLoader(train_dataset, batch_size=8, shuffle=True)\n",
        "\n",
        "device = torch.device(\"cuda\" if torch.cuda.is_available() else \"cpu\")\n",
        "mu = train_dataset.scaler.mean_\n",
        "std = train_dataset.scaler.scale_\n",
        "# make the mean and the standard deviation to be in device\n",
        "mu = torch.tensor(mu, dtype=torch.float32).to(device)\n",
        "std = torch.tensor(std, dtype=torch.float32).to(device)\n",
        "\n",
        "test_dataset = InformerDataset(data_split=\"test\", random_seed=13, forecast_horizon=192)\n",
        "test_loader = DataLoader(test_dataset, batch_size=8, shuffle=True)\n",
        "\n"
      ]
    },
    {
      "cell_type": "code",
      "execution_count": 9,
      "metadata": {
        "colab": {
          "base_uri": "https://localhost:8080/"
        },
        "id": "SKlvVdvc92BY",
        "outputId": "c72ff1e4-ba36-4882-9564-0dec38266977"
      },
      "outputs": [
        {
          "name": "stderr",
          "output_type": "stream",
          "text": [
            "  0%|          | 0/3276 [00:00<?, ?it/s]"
          ]
        },
        {
          "name": "stderr",
          "output_type": "stream",
          "text": [
            "100%|██████████| 3276/3276 [02:09<00:00, 25.22it/s]\n"
          ]
        },
        {
          "name": "stdout",
          "output_type": "stream",
          "text": [
            "Epoch 0: Train loss: 0.124\n"
          ]
        },
        {
          "name": "stderr",
          "output_type": "stream",
          "text": [
            "100%|██████████| 102/102 [00:03<00:00, 25.90it/s]\n"
          ]
        },
        {
          "name": "stdout",
          "output_type": "stream",
          "text": [
            "Epoch 1: Test MSE: 5.889 | Test MAE: 1.950\n"
          ]
        },
        {
          "name": "stderr",
          "output_type": "stream",
          "text": [
            "  0%|          | 0/3276 [00:00<?, ?it/s]/home/mohammed/miniconda3/envs/moment/lib/python3.11/site-packages/torch/utils/checkpoint.py:464: UserWarning: torch.utils.checkpoint: the use_reentrant parameter should be passed explicitly. In version 2.4 we will raise an exception if use_reentrant is not passed. use_reentrant=False is recommended, but if you need to preserve the current default behavior, you can pass use_reentrant=True. Refer to docs for more details on the differences between the two variants.\n",
            "  warnings.warn(\n",
            "/home/mohammed/miniconda3/envs/moment/lib/python3.11/site-packages/torch/utils/checkpoint.py:91: UserWarning: None of the inputs have requires_grad=True. Gradients will be None\n",
            "  warnings.warn(\n",
            "100%|██████████| 3276/3276 [02:34<00:00, 21.14it/s]\n"
          ]
        },
        {
          "name": "stdout",
          "output_type": "stream",
          "text": [
            "Epoch 1: Train loss: 0.128\n"
          ]
        },
        {
          "name": "stderr",
          "output_type": "stream",
          "text": [
            "100%|██████████| 102/102 [00:03<00:00, 25.91it/s]\n"
          ]
        },
        {
          "name": "stdout",
          "output_type": "stream",
          "text": [
            "Epoch 2: Test MSE: 5.979 | Test MAE: 1.863\n"
          ]
        },
        {
          "name": "stderr",
          "output_type": "stream",
          "text": [
            "100%|██████████| 3276/3276 [02:20<00:00, 23.26it/s]\n"
          ]
        },
        {
          "name": "stdout",
          "output_type": "stream",
          "text": [
            "Epoch 2: Train loss: 0.127\n"
          ]
        },
        {
          "name": "stderr",
          "output_type": "stream",
          "text": [
            "100%|██████████| 102/102 [00:03<00:00, 25.94it/s]\n"
          ]
        },
        {
          "name": "stdout",
          "output_type": "stream",
          "text": [
            "Epoch 3: Test MSE: 6.344 | Test MAE: 1.982\n"
          ]
        },
        {
          "name": "stderr",
          "output_type": "stream",
          "text": [
            "100%|██████████| 3276/3276 [02:18<00:00, 23.67it/s]\n"
          ]
        },
        {
          "name": "stdout",
          "output_type": "stream",
          "text": [
            "Epoch 3: Train loss: 0.126\n"
          ]
        },
        {
          "name": "stderr",
          "output_type": "stream",
          "text": [
            "100%|██████████| 102/102 [00:03<00:00, 25.90it/s]\n"
          ]
        },
        {
          "name": "stdout",
          "output_type": "stream",
          "text": [
            "Epoch 4: Test MSE: 6.276 | Test MAE: 1.983\n"
          ]
        },
        {
          "name": "stderr",
          "output_type": "stream",
          "text": [
            "100%|██████████| 3276/3276 [02:19<00:00, 23.47it/s]\n"
          ]
        },
        {
          "name": "stdout",
          "output_type": "stream",
          "text": [
            "Epoch 4: Train loss: 0.126\n"
          ]
        },
        {
          "name": "stderr",
          "output_type": "stream",
          "text": [
            "100%|██████████| 102/102 [00:03<00:00, 25.97it/s]\n"
          ]
        },
        {
          "name": "stdout",
          "output_type": "stream",
          "text": [
            "Epoch 5: Test MSE: 5.302 | Test MAE: 1.865\n"
          ]
        },
        {
          "name": "stderr",
          "output_type": "stream",
          "text": [
            "100%|██████████| 3276/3276 [02:25<00:00, 22.55it/s]\n"
          ]
        },
        {
          "name": "stdout",
          "output_type": "stream",
          "text": [
            "Epoch 5: Train loss: 0.126\n"
          ]
        },
        {
          "name": "stderr",
          "output_type": "stream",
          "text": [
            "100%|██████████| 102/102 [00:04<00:00, 25.02it/s]\n"
          ]
        },
        {
          "name": "stdout",
          "output_type": "stream",
          "text": [
            "Epoch 6: Test MSE: 5.422 | Test MAE: 1.861\n"
          ]
        },
        {
          "name": "stderr",
          "output_type": "stream",
          "text": [
            "100%|██████████| 3276/3276 [02:23<00:00, 22.88it/s]\n"
          ]
        },
        {
          "name": "stdout",
          "output_type": "stream",
          "text": [
            "Epoch 6: Train loss: 0.126\n"
          ]
        },
        {
          "name": "stderr",
          "output_type": "stream",
          "text": [
            "100%|██████████| 102/102 [00:03<00:00, 26.01it/s]\n"
          ]
        },
        {
          "name": "stdout",
          "output_type": "stream",
          "text": [
            "Epoch 7: Test MSE: 6.467 | Test MAE: 2.021\n"
          ]
        },
        {
          "name": "stderr",
          "output_type": "stream",
          "text": [
            "100%|██████████| 3276/3276 [02:21<00:00, 23.22it/s]\n"
          ]
        },
        {
          "name": "stdout",
          "output_type": "stream",
          "text": [
            "Epoch 7: Train loss: 0.126\n"
          ]
        },
        {
          "name": "stderr",
          "output_type": "stream",
          "text": [
            "100%|██████████| 102/102 [00:03<00:00, 25.95it/s]\n"
          ]
        },
        {
          "name": "stdout",
          "output_type": "stream",
          "text": [
            "Epoch 8: Test MSE: 6.566 | Test MAE: 2.056\n"
          ]
        },
        {
          "name": "stderr",
          "output_type": "stream",
          "text": [
            "100%|██████████| 3276/3276 [02:18<00:00, 23.70it/s]\n"
          ]
        },
        {
          "name": "stdout",
          "output_type": "stream",
          "text": [
            "Epoch 8: Train loss: 0.126\n"
          ]
        },
        {
          "name": "stderr",
          "output_type": "stream",
          "text": [
            "100%|██████████| 102/102 [00:03<00:00, 25.93it/s]\n"
          ]
        },
        {
          "name": "stdout",
          "output_type": "stream",
          "text": [
            "Epoch 9: Test MSE: 7.172 | Test MAE: 2.167\n"
          ]
        },
        {
          "name": "stderr",
          "output_type": "stream",
          "text": [
            "100%|██████████| 3276/3276 [02:19<00:00, 23.51it/s]\n"
          ]
        },
        {
          "name": "stdout",
          "output_type": "stream",
          "text": [
            "Epoch 9: Train loss: 0.126\n"
          ]
        },
        {
          "name": "stderr",
          "output_type": "stream",
          "text": [
            "100%|██████████| 102/102 [00:03<00:00, 25.91it/s]"
          ]
        },
        {
          "name": "stdout",
          "output_type": "stream",
          "text": [
            "Epoch 10: Test MSE: 5.729 | Test MAE: 1.913\n"
          ]
        },
        {
          "name": "stderr",
          "output_type": "stream",
          "text": [
            "\n"
          ]
        },
        {
          "ename": "",
          "evalue": "",
          "output_type": "error",
          "traceback": [
            "\u001b[1;31mThe Kernel crashed while executing code in the current cell or a previous cell. \n",
            "\u001b[1;31mPlease review the code in the cell(s) to identify a possible cause of the failure. \n",
            "\u001b[1;31mClick <a href='https://aka.ms/vscodeJupyterKernelCrash'>here</a> for more info. \n",
            "\u001b[1;31mView Jupyter <a href='command:jupyter.viewOutput'>log</a> for further details."
          ]
        }
      ],
      "source": [
        "\n",
        "criterion = torch.nn.MSELoss()\n",
        "optimizer = torch.optim.Adam(model.parameters(), lr=1e-3)\n",
        "\n",
        "cur_epoch = 0\n",
        "max_epoch = 10\n",
        "\n",
        "# Move the model to the GPU\n",
        "model = model.to(device)\n",
        "\n",
        "# Move the loss function to the GPU\n",
        "criterion = criterion.to(device)\n",
        "\n",
        "# Enable mixed precision training\n",
        "scaler = torch.cuda.amp.GradScaler()\n",
        "\n",
        "# Create a OneCycleLR scheduler\n",
        "max_lr = 1e-3\n",
        "total_steps = len(train_loader) * max_epoch\n",
        "scheduler = OneCycleLR(optimizer, max_lr=max_lr, total_steps=total_steps, pct_start=0.3)\n",
        "\n",
        "# Gradient clipping value\n",
        "max_norm = 5.0\n",
        "\n",
        "while cur_epoch < max_epoch:\n",
        "    losses = []\n",
        "    for timeseries, forecast, input_mask in tqdm(train_loader, total=len(train_loader)):\n",
        "        # Move the data to the GPU\n",
        "        timeseries = timeseries.float().to(device)\n",
        "        input_mask = input_mask.to(device)\n",
        "        forecast = forecast.float().to(device)\n",
        "\n",
        "\n",
        "        with torch.cuda.amp.autocast():\n",
        "            output = model(timeseries, input_mask)\n",
        "\n",
        "        loss = criterion(output.forecast, forecast)\n",
        "\n",
        "        # Scales the loss for mixed precision training\n",
        "        scaler.scale(loss).backward()\n",
        "\n",
        "        # Clip gradients\n",
        "        scaler.unscale_(optimizer)\n",
        "        torch.nn.utils.clip_grad_norm_(model.parameters(), max_norm)\n",
        "\n",
        "        scaler.step(optimizer)\n",
        "        scaler.update()\n",
        "        optimizer.zero_grad(set_to_none=True)\n",
        "\n",
        "        losses.append(loss.item())\n",
        "\n",
        "    losses = np.array(losses)\n",
        "    average_loss = np.average(losses)\n",
        "    print(f\"Epoch {cur_epoch}: Train loss: {average_loss:.3f}\")\n",
        "\n",
        "    # Step the learning rate scheduler\n",
        "    scheduler.step()\n",
        "    cur_epoch += 1\n",
        "\n",
        "    # Evaluate the model on the test split\n",
        "    trues, preds, histories, losses = [], [], [], []\n",
        "    model.eval()\n",
        "    with torch.no_grad():\n",
        "        for timeseries, forecast, input_mask in tqdm(test_loader, total=len(test_loader)):\n",
        "        # Move the data to the GPU\n",
        "            timeseries = timeseries.float().to(device)\n",
        "            input_mask = input_mask.to(device)\n",
        "            forecast = forecast.float().to(device)\n",
        "\n",
        "            with torch.cuda.amp.autocast():\n",
        "                # change the shape to [batchsize, context, channels] and transform to cpu\n",
        "                timeseries = timeseries.permute(0, 2, 1)\n",
        "                # normalize the data using the mean and the standard deviation from the training data and make sure the output datatype is float 32\n",
        "                timeseries = (timeseries - mu)/std\n",
        "                timeseries = timeseries.permute(0, 2, 1)\n",
        "                output = model(timeseries, input_mask)\n",
        "                # denormalize the data\n",
        "                output.forecast = output.forecast.permute(0, 2, 1)\n",
        "                output.forecast = output.forecast * std + mu\n",
        "                output.forecast = output.forecast.permute(0, 2, 1)\n",
        "\n",
        "            loss = criterion(output.forecast, forecast)\n",
        "            losses.append(loss.item())\n",
        "\n",
        "            trues.append(forecast.detach().cpu().numpy())\n",
        "            preds.append(output.forecast.detach().cpu().numpy())\n",
        "            histories.append(timeseries.detach().cpu().numpy())\n",
        "\n",
        "    losses = np.array(losses)\n",
        "    average_loss = np.average(losses)\n",
        "    model.train()\n",
        "\n",
        "    trues = np.concatenate(trues, axis=0)\n",
        "    preds = np.concatenate(preds, axis=0)\n",
        "    histories = np.concatenate(histories, axis=0)\n",
        "\n",
        "    metrics = get_forecasting_metrics(y=trues, y_hat=preds, reduction='mean')\n",
        "\n",
        "    print(f\"Epoch {cur_epoch}: Test MSE: {metrics.mse:.3f} | Test MAE: {metrics.mae:.3f}\")"
      ]
    },
    {
      "cell_type": "markdown",
      "metadata": {
        "id": "XVSnkP1XsuAL"
      },
      "source": [
        "### 4.2 Visualization\n",
        "\n",
        "Next, let's visualize the forecasts for a sample from the ETTh1 dataset and compare it with the ground truth forecast for the given time series."
      ]
    },
    {
      "cell_type": "code",
      "execution_count": 9,
      "metadata": {
        "id": "WKrCejwNsuAL",
        "outputId": "1f842d21-c625-46f3-f662-27c9e6141a35"
      },
      "outputs": [
        {
          "data": {
            "image/png": "[encoded data removed]",
            "text/plain": [
              "<Figure size 1200x400 with 1 Axes>"
            ]
          },
          "metadata": {},
          "output_type": "display_data"
        }
      ],
      "source": [
        "import matplotlib.pyplot as plt\n",
        "\n",
        "# Assuming histories, trues, and preds are your lists containing the data\n",
        "# Extracting the first data point\n",
        "\n",
        "channel_idx = np.random.randint(0, 5) # There are 7 channels in this dataset\n",
        "time_index = np.random.randint(0, trues.shape[0])\n",
        "\n",
        "history = histories[time_index, channel_idx, :]\n",
        "true = trues[time_index, channel_idx, :]\n",
        "pred = preds[time_index, channel_idx, :]\n",
        "\n",
        "plt.figure(figsize=(12, 4))\n",
        "\n",
        "# Plotting the first time series from history\n",
        "plt.plot(range(len(history)), history, label='History (512 timesteps)', c='darkblue')\n",
        "\n",
        "# Plotting ground truth and prediction\n",
        "num_forecasts = len(true)\n",
        "\n",
        "offset = len(history)\n",
        "plt.plot(range(offset, offset + len(true)), true, label='Ground Truth (192 timesteps)', color='darkblue', linestyle='--', alpha=0.5)\n",
        "plt.plot(range(offset, offset + len(pred)), pred, label='Forecast (192 timesteps)', color='red', linestyle='--')\n",
        "\n",
        "plt.title(f\"Repressilator -- (idx={time_index}, channel={channel_idx})\", fontsize=18)\n",
        "plt.xlabel('Time', fontsize=14)\n",
        "plt.ylabel('Value', fontsize=14)\n",
        "plt.legend(fontsize=14)\n",
        "plt.show()"
      ]
    },
    {
      "cell_type": "markdown",
      "metadata": {
        "id": "Qyf0J8jwsuAL"
      },
      "source": [
        "### 4.3 Results Interpretation: MOMENT Performs Well for Forecasting in Limited Supervision Settings\n",
        "\n",
        "Here, we can see that MOMENT **trained for 1 epoch only, without any hyperparameter tuning**, can forecast time series well!"
      ]
    }
  ],
  "metadata": {
    "accelerator": "GPU",
    "colab": {
      "gpuType": "T4",
      "provenance": []
    },
    "kernelspec": {
      "display_name": "Python 3",
      "name": "python3"
    },
    "language_info": {
      "codemirror_mode": {
        "name": "ipython",
        "version": 3
      },
      "file_extension": ".py",
      "mimetype": "text/x-python",
      "name": "python",
      "nbconvert_exporter": "python",
      "pygments_lexer": "ipython3",
      "version": "3.11.9"
    },
    "widgets": {
      "application/vnd.jupyter.widget-state+json": {
        "031cd9e2cd7244848e90227e38590b08": {
          "model_module": "@jupyter-widgets/controls",
          "model_module_version": "1.5.0",
          "model_name": "FloatProgressModel",
          "state": {
            "_dom_classes": [],
            "_model_module": "@jupyter-widgets/controls",
            "_model_module_version": "1.5.0",
            "_model_name": "FloatProgressModel",
            "_view_count": null,
            "_view_module": "@jupyter-widgets/controls",
            "_view_module_version": "1.5.0",
            "_view_name": "ProgressView",
            "bar_style": "success",
            "description": "",
            "description_tooltip": null,
            "layout": "IPY_MODEL_70339bc5e5de449488121602c1da12da",
            "max": 662,
            "min": 0,
            "orientation": "horizontal",
            "style": "IPY_MODEL_f6faa489f347463d8b94b1fb3210de25",
            "value": 662
          }
        },
        "03ad58a038e94907bde6cedcecc794ac": {
          "model_module": "@jupyter-widgets/controls",
          "model_module_version": "1.5.0",
          "model_name": "HTMLModel",
          "state": {
            "_dom_classes": [],
            "_model_module": "@jupyter-widgets/controls",
            "_model_module_version": "1.5.0",
            "_model_name": "HTMLModel",
            "_view_count": null,
            "_view_module": "@jupyter-widgets/controls",
            "_view_module_version": "1.5.0",
            "_view_name": "HTMLView",
            "description": "",
            "description_tooltip": null,
            "layout": "IPY_MODEL_4166c08d50624169b1001c50ab535564",
            "placeholder": "​",
            "style": "IPY_MODEL_33a4774740e94bd09830a514e956b45e",
            "value": "config.json: 100%"
          }
        },
        "03c6fb90dfd5438b8a3b37c88ceab0c5": {
          "model_module": "@jupyter-widgets/controls",
          "model_module_version": "1.5.0",
          "model_name": "DescriptionStyleModel",
          "state": {
            "_model_module": "@jupyter-widgets/controls",
            "_model_module_version": "1.5.0",
            "_model_name": "DescriptionStyleModel",
            "_view_count": null,
            "_view_module": "@jupyter-widgets/base",
            "_view_module_version": "1.2.0",
            "_view_name": "StyleView",
            "description_width": ""
          }
        },
        "052fabc694c24d41b50e3724085c8ab4": {
          "model_module": "@jupyter-widgets/controls",
          "model_module_version": "1.5.0",
          "model_name": "ProgressStyleModel",
          "state": {
            "_model_module": "@jupyter-widgets/controls",
            "_model_module_version": "1.5.0",
            "_model_name": "ProgressStyleModel",
            "_view_count": null,
            "_view_module": "@jupyter-widgets/base",
            "_view_module_version": "1.2.0",
            "_view_name": "StyleView",
            "bar_color": null,
            "description_width": ""
          }
        },
        "14b20fe5fe5549818c2e1948408a18fe": {
          "model_module": "@jupyter-widgets/base",
          "model_module_version": "1.2.0",
          "model_name": "LayoutModel",
          "state": {
            "_model_module": "@jupyter-widgets/base",
            "_model_module_version": "1.2.0",
            "_model_name": "LayoutModel",
            "_view_count": null,
            "_view_module": "@jupyter-widgets/base",
            "_view_module_version": "1.2.0",
            "_view_name": "LayoutView",
            "align_content": null,
            "align_items": null,
            "align_self": null,
            "border": null,
            "bottom": null,
            "display": null,
            "flex": null,
            "flex_flow": null,
            "grid_area": null,
            "grid_auto_columns": null,
            "grid_auto_flow": null,
            "grid_auto_rows": null,
            "grid_column": null,
            "grid_gap": null,
            "grid_row": null,
            "grid_template_areas": null,
            "grid_template_columns": null,
            "grid_template_rows": null,
            "height": null,
            "justify_content": null,
            "justify_items": null,
            "left": null,
            "margin": null,
            "max_height": null,
            "max_width": null,
            "min_height": null,
            "min_width": null,
            "object_fit": null,
            "object_position": null,
            "order": null,
            "overflow": null,
            "overflow_x": null,
            "overflow_y": null,
            "padding": null,
            "right": null,
            "top": null,
            "visibility": null,
            "width": null
          }
        },
        "1da402e29b9a4d778a584cd464c75c12": {
          "model_module": "@jupyter-widgets/controls",
          "model_module_version": "1.5.0",
          "model_name": "DescriptionStyleModel",
          "state": {
            "_model_module": "@jupyter-widgets/controls",
            "_model_module_version": "1.5.0",
            "_model_name": "DescriptionStyleModel",
            "_view_count": null,
            "_view_module": "@jupyter-widgets/base",
            "_view_module_version": "1.2.0",
            "_view_name": "StyleView",
            "description_width": ""
          }
        },
        "26a6c1b399f944989255512d752dd556": {
          "model_module": "@jupyter-widgets/controls",
          "model_module_version": "1.5.0",
          "model_name": "DescriptionStyleModel",
          "state": {
            "_model_module": "@jupyter-widgets/controls",
            "_model_module_version": "1.5.0",
            "_model_name": "DescriptionStyleModel",
            "_view_count": null,
            "_view_module": "@jupyter-widgets/base",
            "_view_module_version": "1.2.0",
            "_view_name": "StyleView",
            "description_width": ""
          }
        },
        "32ff8383064a428aa3741daad4bfbe06": {
          "model_module": "@jupyter-widgets/controls",
          "model_module_version": "1.5.0",
          "model_name": "DescriptionStyleModel",
          "state": {
            "_model_module": "@jupyter-widgets/controls",
            "_model_module_version": "1.5.0",
            "_model_name": "DescriptionStyleModel",
            "_view_count": null,
            "_view_module": "@jupyter-widgets/base",
            "_view_module_version": "1.2.0",
            "_view_name": "StyleView",
            "description_width": ""
          }
        },
        "33a4774740e94bd09830a514e956b45e": {
          "model_module": "@jupyter-widgets/controls",
          "model_module_version": "1.5.0",
          "model_name": "DescriptionStyleModel",
          "state": {
            "_model_module": "@jupyter-widgets/controls",
            "_model_module_version": "1.5.0",
            "_model_name": "DescriptionStyleModel",
            "_view_count": null,
            "_view_module": "@jupyter-widgets/base",
            "_view_module_version": "1.2.0",
            "_view_name": "StyleView",
            "description_width": ""
          }
        },
        "3b740823c79a408eba128ec89d282eef": {
          "model_module": "@jupyter-widgets/controls",
          "model_module_version": "1.5.0",
          "model_name": "HTMLModel",
          "state": {
            "_dom_classes": [],
            "_model_module": "@jupyter-widgets/controls",
            "_model_module_version": "1.5.0",
            "_model_name": "HTMLModel",
            "_view_count": null,
            "_view_module": "@jupyter-widgets/controls",
            "_view_module_version": "1.5.0",
            "_view_name": "HTMLView",
            "description": "",
            "description_tooltip": null,
            "layout": "IPY_MODEL_c16e8133f808481e844a92c6bc2a32be",
            "placeholder": "​",
            "style": "IPY_MODEL_dc08fcbccf914afd81a1f8850496e3a7",
            "value": "pytorch_model.bin: 100%"
          }
        },
        "3c652b222f5b4c12ab03aa88b89b5046": {
          "model_module": "@jupyter-widgets/controls",
          "model_module_version": "1.5.0",
          "model_name": "FloatProgressModel",
          "state": {
            "_dom_classes": [],
            "_model_module": "@jupyter-widgets/controls",
            "_model_module_version": "1.5.0",
            "_model_name": "FloatProgressModel",
            "_view_count": null,
            "_view_module": "@jupyter-widgets/controls",
            "_view_module_version": "1.5.0",
            "_view_name": "ProgressView",
            "bar_style": "success",
            "description": "",
            "description_tooltip": null,
            "layout": "IPY_MODEL_dd3b0597c4874fcdb7f18255bd6d90c4",
            "max": 3132668804,
            "min": 0,
            "orientation": "horizontal",
            "style": "IPY_MODEL_6228f28b815c4e4aa581620a636a14c5",
            "value": 3132668804
          }
        },
        "4166c08d50624169b1001c50ab535564": {
          "model_module": "@jupyter-widgets/base",
          "model_module_version": "1.2.0",
          "model_name": "LayoutModel",
          "state": {
            "_model_module": "@jupyter-widgets/base",
            "_model_module_version": "1.2.0",
            "_model_name": "LayoutModel",
            "_view_count": null,
            "_view_module": "@jupyter-widgets/base",
            "_view_module_version": "1.2.0",
            "_view_name": "LayoutView",
            "align_content": null,
            "align_items": null,
            "align_self": null,
            "border": null,
            "bottom": null,
            "display": null,
            "flex": null,
            "flex_flow": null,
            "grid_area": null,
            "grid_auto_columns": null,
            "grid_auto_flow": null,
            "grid_auto_rows": null,
            "grid_column": null,
            "grid_gap": null,
            "grid_row": null,
            "grid_template_areas": null,
            "grid_template_columns": null,
            "grid_template_rows": null,
            "height": null,
            "justify_content": null,
            "justify_items": null,
            "left": null,
            "margin": null,
            "max_height": null,
            "max_width": null,
            "min_height": null,
            "min_width": null,
            "object_fit": null,
            "object_position": null,
            "order": null,
            "overflow": null,
            "overflow_x": null,
            "overflow_y": null,
            "padding": null,
            "right": null,
            "top": null,
            "visibility": null,
            "width": null
          }
        },
        "44990087688b4df38620125c2e29ef73": {
          "model_module": "@jupyter-widgets/controls",
          "model_module_version": "1.5.0",
          "model_name": "HBoxModel",
          "state": {
            "_dom_classes": [],
            "_model_module": "@jupyter-widgets/controls",
            "_model_module_version": "1.5.0",
            "_model_name": "HBoxModel",
            "_view_count": null,
            "_view_module": "@jupyter-widgets/controls",
            "_view_module_version": "1.5.0",
            "_view_name": "HBoxView",
            "box_style": "",
            "children": [
              "IPY_MODEL_5decba9a8f834c6e88ffcbd6caa2e863",
              "IPY_MODEL_031cd9e2cd7244848e90227e38590b08",
              "IPY_MODEL_7341ea2d494a47d0a1716389e5eebebd"
            ],
            "layout": "IPY_MODEL_7a4d617090cf43999be6fe39b163212f"
          }
        },
        "507186949d294bb684284b8871941129": {
          "model_module": "@jupyter-widgets/controls",
          "model_module_version": "1.5.0",
          "model_name": "DescriptionStyleModel",
          "state": {
            "_model_module": "@jupyter-widgets/controls",
            "_model_module_version": "1.5.0",
            "_model_name": "DescriptionStyleModel",
            "_view_count": null,
            "_view_module": "@jupyter-widgets/base",
            "_view_module_version": "1.2.0",
            "_view_name": "StyleView",
            "description_width": ""
          }
        },
        "5421fb8f99f44f54a410ed7a16384519": {
          "model_module": "@jupyter-widgets/base",
          "model_module_version": "1.2.0",
          "model_name": "LayoutModel",
          "state": {
            "_model_module": "@jupyter-widgets/base",
            "_model_module_version": "1.2.0",
            "_model_name": "LayoutModel",
            "_view_count": null,
            "_view_module": "@jupyter-widgets/base",
            "_view_module_version": "1.2.0",
            "_view_name": "LayoutView",
            "align_content": null,
            "align_items": null,
            "align_self": null,
            "border": null,
            "bottom": null,
            "display": null,
            "flex": null,
            "flex_flow": null,
            "grid_area": null,
            "grid_auto_columns": null,
            "grid_auto_flow": null,
            "grid_auto_rows": null,
            "grid_column": null,
            "grid_gap": null,
            "grid_row": null,
            "grid_template_areas": null,
            "grid_template_columns": null,
            "grid_template_rows": null,
            "height": null,
            "justify_content": null,
            "justify_items": null,
            "left": null,
            "margin": null,
            "max_height": null,
            "max_width": null,
            "min_height": null,
            "min_width": null,
            "object_fit": null,
            "object_position": null,
            "order": null,
            "overflow": null,
            "overflow_x": null,
            "overflow_y": null,
            "padding": null,
            "right": null,
            "top": null,
            "visibility": null,
            "width": null
          }
        },
        "5decba9a8f834c6e88ffcbd6caa2e863": {
          "model_module": "@jupyter-widgets/controls",
          "model_module_version": "1.5.0",
          "model_name": "HTMLModel",
          "state": {
            "_dom_classes": [],
            "_model_module": "@jupyter-widgets/controls",
            "_model_module_version": "1.5.0",
            "_model_name": "HTMLModel",
            "_view_count": null,
            "_view_module": "@jupyter-widgets/controls",
            "_view_module_version": "1.5.0",
            "_view_name": "HTMLView",
            "description": "",
            "description_tooltip": null,
            "layout": "IPY_MODEL_d3d028fe99f4446680ceab149fd5b854",
            "placeholder": "​",
            "style": "IPY_MODEL_32ff8383064a428aa3741daad4bfbe06",
            "value": "config.json: 100%"
          }
        },
        "6228f28b815c4e4aa581620a636a14c5": {
          "model_module": "@jupyter-widgets/controls",
          "model_module_version": "1.5.0",
          "model_name": "ProgressStyleModel",
          "state": {
            "_model_module": "@jupyter-widgets/controls",
            "_model_module_version": "1.5.0",
            "_model_name": "ProgressStyleModel",
            "_view_count": null,
            "_view_module": "@jupyter-widgets/base",
            "_view_module_version": "1.2.0",
            "_view_name": "StyleView",
            "bar_color": null,
            "description_width": ""
          }
        },
        "654f7d1c0aa24cb7bc2152cdf9f11b83": {
          "model_module": "@jupyter-widgets/controls",
          "model_module_version": "1.5.0",
          "model_name": "HTMLModel",
          "state": {
            "_dom_classes": [],
            "_model_module": "@jupyter-widgets/controls",
            "_model_module_version": "1.5.0",
            "_model_name": "HTMLModel",
            "_view_count": null,
            "_view_module": "@jupyter-widgets/controls",
            "_view_module_version": "1.5.0",
            "_view_name": "HTMLView",
            "description": "",
            "description_tooltip": null,
            "layout": "IPY_MODEL_ca0586c5f1c14051a1e43087abb84dfb",
            "placeholder": "​",
            "style": "IPY_MODEL_03c6fb90dfd5438b8a3b37c88ceab0c5",
            "value": "model.safetensors: 100%"
          }
        },
        "661e071142d3438f8fdbcebff30215ea": {
          "model_module": "@jupyter-widgets/base",
          "model_module_version": "1.2.0",
          "model_name": "LayoutModel",
          "state": {
            "_model_module": "@jupyter-widgets/base",
            "_model_module_version": "1.2.0",
            "_model_name": "LayoutModel",
            "_view_count": null,
            "_view_module": "@jupyter-widgets/base",
            "_view_module_version": "1.2.0",
            "_view_name": "LayoutView",
            "align_content": null,
            "align_items": null,
            "align_self": null,
            "border": null,
            "bottom": null,
            "display": null,
            "flex": null,
            "flex_flow": null,
            "grid_area": null,
            "grid_auto_columns": null,
            "grid_auto_flow": null,
            "grid_auto_rows": null,
            "grid_column": null,
            "grid_gap": null,
            "grid_row": null,
            "grid_template_areas": null,
            "grid_template_columns": null,
            "grid_template_rows": null,
            "height": null,
            "justify_content": null,
            "justify_items": null,
            "left": null,
            "margin": null,
            "max_height": null,
            "max_width": null,
            "min_height": null,
            "min_width": null,
            "object_fit": null,
            "object_position": null,
            "order": null,
            "overflow": null,
            "overflow_x": null,
            "overflow_y": null,
            "padding": null,
            "right": null,
            "top": null,
            "visibility": null,
            "width": null
          }
        },
        "70339bc5e5de449488121602c1da12da": {
          "model_module": "@jupyter-widgets/base",
          "model_module_version": "1.2.0",
          "model_name": "LayoutModel",
          "state": {
            "_model_module": "@jupyter-widgets/base",
            "_model_module_version": "1.2.0",
            "_model_name": "LayoutModel",
            "_view_count": null,
            "_view_module": "@jupyter-widgets/base",
            "_view_module_version": "1.2.0",
            "_view_name": "LayoutView",
            "align_content": null,
            "align_items": null,
            "align_self": null,
            "border": null,
            "bottom": null,
            "display": null,
            "flex": null,
            "flex_flow": null,
            "grid_area": null,
            "grid_auto_columns": null,
            "grid_auto_flow": null,
            "grid_auto_rows": null,
            "grid_column": null,
            "grid_gap": null,
            "grid_row": null,
            "grid_template_areas": null,
            "grid_template_columns": null,
            "grid_template_rows": null,
            "height": null,
            "justify_content": null,
            "justify_items": null,
            "left": null,
            "margin": null,
            "max_height": null,
            "max_width": null,
            "min_height": null,
            "min_width": null,
            "object_fit": null,
            "object_position": null,
            "order": null,
            "overflow": null,
            "overflow_x": null,
            "overflow_y": null,
            "padding": null,
            "right": null,
            "top": null,
            "visibility": null,
            "width": null
          }
        },
        "7341ea2d494a47d0a1716389e5eebebd": {
          "model_module": "@jupyter-widgets/controls",
          "model_module_version": "1.5.0",
          "model_name": "HTMLModel",
          "state": {
            "_dom_classes": [],
            "_model_module": "@jupyter-widgets/controls",
            "_model_module_version": "1.5.0",
            "_model_name": "HTMLModel",
            "_view_count": null,
            "_view_module": "@jupyter-widgets/controls",
            "_view_module_version": "1.5.0",
            "_view_name": "HTMLView",
            "description": "",
            "description_tooltip": null,
            "layout": "IPY_MODEL_5421fb8f99f44f54a410ed7a16384519",
            "placeholder": "​",
            "style": "IPY_MODEL_507186949d294bb684284b8871941129",
            "value": " 662/662 [00:00&lt;00:00, 45.9kB/s]"
          }
        },
        "79a507e552a3440a8d5b2b5430d3f4a0": {
          "model_module": "@jupyter-widgets/base",
          "model_module_version": "1.2.0",
          "model_name": "LayoutModel",
          "state": {
            "_model_module": "@jupyter-widgets/base",
            "_model_module_version": "1.2.0",
            "_model_name": "LayoutModel",
            "_view_count": null,
            "_view_module": "@jupyter-widgets/base",
            "_view_module_version": "1.2.0",
            "_view_name": "LayoutView",
            "align_content": null,
            "align_items": null,
            "align_self": null,
            "border": null,
            "bottom": null,
            "display": null,
            "flex": null,
            "flex_flow": null,
            "grid_area": null,
            "grid_auto_columns": null,
            "grid_auto_flow": null,
            "grid_auto_rows": null,
            "grid_column": null,
            "grid_gap": null,
            "grid_row": null,
            "grid_template_areas": null,
            "grid_template_columns": null,
            "grid_template_rows": null,
            "height": null,
            "justify_content": null,
            "justify_items": null,
            "left": null,
            "margin": null,
            "max_height": null,
            "max_width": null,
            "min_height": null,
            "min_width": null,
            "object_fit": null,
            "object_position": null,
            "order": null,
            "overflow": null,
            "overflow_x": null,
            "overflow_y": null,
            "padding": null,
            "right": null,
            "top": null,
            "visibility": null,
            "width": null
          }
        },
        "79f4a60588f64799be5fb9a15bf9ab74": {
          "model_module": "@jupyter-widgets/base",
          "model_module_version": "1.2.0",
          "model_name": "LayoutModel",
          "state": {
            "_model_module": "@jupyter-widgets/base",
            "_model_module_version": "1.2.0",
            "_model_name": "LayoutModel",
            "_view_count": null,
            "_view_module": "@jupyter-widgets/base",
            "_view_module_version": "1.2.0",
            "_view_name": "LayoutView",
            "align_content": null,
            "align_items": null,
            "align_self": null,
            "border": null,
            "bottom": null,
            "display": null,
            "flex": null,
            "flex_flow": null,
            "grid_area": null,
            "grid_auto_columns": null,
            "grid_auto_flow": null,
            "grid_auto_rows": null,
            "grid_column": null,
            "grid_gap": null,
            "grid_row": null,
            "grid_template_areas": null,
            "grid_template_columns": null,
            "grid_template_rows": null,
            "height": null,
            "justify_content": null,
            "justify_items": null,
            "left": null,
            "margin": null,
            "max_height": null,
            "max_width": null,
            "min_height": null,
            "min_width": null,
            "object_fit": null,
            "object_position": null,
            "order": null,
            "overflow": null,
            "overflow_x": null,
            "overflow_y": null,
            "padding": null,
            "right": null,
            "top": null,
            "visibility": null,
            "width": null
          }
        },
        "7a4d617090cf43999be6fe39b163212f": {
          "model_module": "@jupyter-widgets/base",
          "model_module_version": "1.2.0",
          "model_name": "LayoutModel",
          "state": {
            "_model_module": "@jupyter-widgets/base",
            "_model_module_version": "1.2.0",
            "_model_name": "LayoutModel",
            "_view_count": null,
            "_view_module": "@jupyter-widgets/base",
            "_view_module_version": "1.2.0",
            "_view_name": "LayoutView",
            "align_content": null,
            "align_items": null,
            "align_self": null,
            "border": null,
            "bottom": null,
            "display": null,
            "flex": null,
            "flex_flow": null,
            "grid_area": null,
            "grid_auto_columns": null,
            "grid_auto_flow": null,
            "grid_auto_rows": null,
            "grid_column": null,
            "grid_gap": null,
            "grid_row": null,
            "grid_template_areas": null,
            "grid_template_columns": null,
            "grid_template_rows": null,
            "height": null,
            "justify_content": null,
            "justify_items": null,
            "left": null,
            "margin": null,
            "max_height": null,
            "max_width": null,
            "min_height": null,
            "min_width": null,
            "object_fit": null,
            "object_position": null,
            "order": null,
            "overflow": null,
            "overflow_x": null,
            "overflow_y": null,
            "padding": null,
            "right": null,
            "top": null,
            "visibility": null,
            "width": null
          }
        },
        "7fa7a77301cb44b39129f90462454a4b": {
          "model_module": "@jupyter-widgets/controls",
          "model_module_version": "1.5.0",
          "model_name": "FloatProgressModel",
          "state": {
            "_dom_classes": [],
            "_model_module": "@jupyter-widgets/controls",
            "_model_module_version": "1.5.0",
            "_model_name": "FloatProgressModel",
            "_view_count": null,
            "_view_module": "@jupyter-widgets/controls",
            "_view_module_version": "1.5.0",
            "_view_name": "ProgressView",
            "bar_style": "success",
            "description": "",
            "description_tooltip": null,
            "layout": "IPY_MODEL_b6cb3deecb31429982437dbee22c2e72",
            "max": 1385575757,
            "min": 0,
            "orientation": "horizontal",
            "style": "IPY_MODEL_9346ca79bcb34c87904c06e5ebe9c2e6",
            "value": 1385575757
          }
        },
        "88f6336c80a248bdbc51b74773e1d783": {
          "model_module": "@jupyter-widgets/base",
          "model_module_version": "1.2.0",
          "model_name": "LayoutModel",
          "state": {
            "_model_module": "@jupyter-widgets/base",
            "_model_module_version": "1.2.0",
            "_model_name": "LayoutModel",
            "_view_count": null,
            "_view_module": "@jupyter-widgets/base",
            "_view_module_version": "1.2.0",
            "_view_name": "LayoutView",
            "align_content": null,
            "align_items": null,
            "align_self": null,
            "border": null,
            "bottom": null,
            "display": null,
            "flex": null,
            "flex_flow": null,
            "grid_area": null,
            "grid_auto_columns": null,
            "grid_auto_flow": null,
            "grid_auto_rows": null,
            "grid_column": null,
            "grid_gap": null,
            "grid_row": null,
            "grid_template_areas": null,
            "grid_template_columns": null,
            "grid_template_rows": null,
            "height": null,
            "justify_content": null,
            "justify_items": null,
            "left": null,
            "margin": null,
            "max_height": null,
            "max_width": null,
            "min_height": null,
            "min_width": null,
            "object_fit": null,
            "object_position": null,
            "order": null,
            "overflow": null,
            "overflow_x": null,
            "overflow_y": null,
            "padding": null,
            "right": null,
            "top": null,
            "visibility": null,
            "width": null
          }
        },
        "9346ca79bcb34c87904c06e5ebe9c2e6": {
          "model_module": "@jupyter-widgets/controls",
          "model_module_version": "1.5.0",
          "model_name": "ProgressStyleModel",
          "state": {
            "_model_module": "@jupyter-widgets/controls",
            "_model_module_version": "1.5.0",
            "_model_name": "ProgressStyleModel",
            "_view_count": null,
            "_view_module": "@jupyter-widgets/base",
            "_view_module_version": "1.2.0",
            "_view_name": "StyleView",
            "bar_color": null,
            "description_width": ""
          }
        },
        "985435b5c54d412584900063d3158957": {
          "model_module": "@jupyter-widgets/controls",
          "model_module_version": "1.5.0",
          "model_name": "HTMLModel",
          "state": {
            "_dom_classes": [],
            "_model_module": "@jupyter-widgets/controls",
            "_model_module_version": "1.5.0",
            "_model_name": "HTMLModel",
            "_view_count": null,
            "_view_module": "@jupyter-widgets/controls",
            "_view_module_version": "1.5.0",
            "_view_name": "HTMLView",
            "description": "",
            "description_tooltip": null,
            "layout": "IPY_MODEL_fde739e405d04e929c10aaee5eca05fa",
            "placeholder": "​",
            "style": "IPY_MODEL_d68afef6026b4a769a2aea5513b1c5ab",
            "value": " 248/248 [00:00&lt;00:00, 11.6kB/s]"
          }
        },
        "a67f290b04f341d0b8724d6d1dd6d01b": {
          "model_module": "@jupyter-widgets/controls",
          "model_module_version": "1.5.0",
          "model_name": "HBoxModel",
          "state": {
            "_dom_classes": [],
            "_model_module": "@jupyter-widgets/controls",
            "_model_module_version": "1.5.0",
            "_model_name": "HBoxModel",
            "_view_count": null,
            "_view_module": "@jupyter-widgets/controls",
            "_view_module_version": "1.5.0",
            "_view_name": "HBoxView",
            "box_style": "",
            "children": [
              "IPY_MODEL_03ad58a038e94907bde6cedcecc794ac",
              "IPY_MODEL_b9213aec55ec4f3cb0af2b824ef2cfe7",
              "IPY_MODEL_985435b5c54d412584900063d3158957"
            ],
            "layout": "IPY_MODEL_e610afe9dd40423998a599e7bec8796e"
          }
        },
        "b462eca57f1549c5af7ba1957ada5b89": {
          "model_module": "@jupyter-widgets/controls",
          "model_module_version": "1.5.0",
          "model_name": "HBoxModel",
          "state": {
            "_dom_classes": [],
            "_model_module": "@jupyter-widgets/controls",
            "_model_module_version": "1.5.0",
            "_model_name": "HBoxModel",
            "_view_count": null,
            "_view_module": "@jupyter-widgets/controls",
            "_view_module_version": "1.5.0",
            "_view_name": "HBoxView",
            "box_style": "",
            "children": [
              "IPY_MODEL_3b740823c79a408eba128ec89d282eef",
              "IPY_MODEL_7fa7a77301cb44b39129f90462454a4b",
              "IPY_MODEL_df25d5541edf4facb6cf69b6ece2f60f"
            ],
            "layout": "IPY_MODEL_88f6336c80a248bdbc51b74773e1d783"
          }
        },
        "b6cb3deecb31429982437dbee22c2e72": {
          "model_module": "@jupyter-widgets/base",
          "model_module_version": "1.2.0",
          "model_name": "LayoutModel",
          "state": {
            "_model_module": "@jupyter-widgets/base",
            "_model_module_version": "1.2.0",
            "_model_name": "LayoutModel",
            "_view_count": null,
            "_view_module": "@jupyter-widgets/base",
            "_view_module_version": "1.2.0",
            "_view_name": "LayoutView",
            "align_content": null,
            "align_items": null,
            "align_self": null,
            "border": null,
            "bottom": null,
            "display": null,
            "flex": null,
            "flex_flow": null,
            "grid_area": null,
            "grid_auto_columns": null,
            "grid_auto_flow": null,
            "grid_auto_rows": null,
            "grid_column": null,
            "grid_gap": null,
            "grid_row": null,
            "grid_template_areas": null,
            "grid_template_columns": null,
            "grid_template_rows": null,
            "height": null,
            "justify_content": null,
            "justify_items": null,
            "left": null,
            "margin": null,
            "max_height": null,
            "max_width": null,
            "min_height": null,
            "min_width": null,
            "object_fit": null,
            "object_position": null,
            "order": null,
            "overflow": null,
            "overflow_x": null,
            "overflow_y": null,
            "padding": null,
            "right": null,
            "top": null,
            "visibility": null,
            "width": null
          }
        },
        "b9213aec55ec4f3cb0af2b824ef2cfe7": {
          "model_module": "@jupyter-widgets/controls",
          "model_module_version": "1.5.0",
          "model_name": "FloatProgressModel",
          "state": {
            "_dom_classes": [],
            "_model_module": "@jupyter-widgets/controls",
            "_model_module_version": "1.5.0",
            "_model_name": "FloatProgressModel",
            "_view_count": null,
            "_view_module": "@jupyter-widgets/controls",
            "_view_module_version": "1.5.0",
            "_view_name": "ProgressView",
            "bar_style": "success",
            "description": "",
            "description_tooltip": null,
            "layout": "IPY_MODEL_79f4a60588f64799be5fb9a15bf9ab74",
            "max": 248,
            "min": 0,
            "orientation": "horizontal",
            "style": "IPY_MODEL_052fabc694c24d41b50e3724085c8ab4",
            "value": 248
          }
        },
        "c16e8133f808481e844a92c6bc2a32be": {
          "model_module": "@jupyter-widgets/base",
          "model_module_version": "1.2.0",
          "model_name": "LayoutModel",
          "state": {
            "_model_module": "@jupyter-widgets/base",
            "_model_module_version": "1.2.0",
            "_model_name": "LayoutModel",
            "_view_count": null,
            "_view_module": "@jupyter-widgets/base",
            "_view_module_version": "1.2.0",
            "_view_name": "LayoutView",
            "align_content": null,
            "align_items": null,
            "align_self": null,
            "border": null,
            "bottom": null,
            "display": null,
            "flex": null,
            "flex_flow": null,
            "grid_area": null,
            "grid_auto_columns": null,
            "grid_auto_flow": null,
            "grid_auto_rows": null,
            "grid_column": null,
            "grid_gap": null,
            "grid_row": null,
            "grid_template_areas": null,
            "grid_template_columns": null,
            "grid_template_rows": null,
            "height": null,
            "justify_content": null,
            "justify_items": null,
            "left": null,
            "margin": null,
            "max_height": null,
            "max_width": null,
            "min_height": null,
            "min_width": null,
            "object_fit": null,
            "object_position": null,
            "order": null,
            "overflow": null,
            "overflow_x": null,
            "overflow_y": null,
            "padding": null,
            "right": null,
            "top": null,
            "visibility": null,
            "width": null
          }
        },
        "ca0586c5f1c14051a1e43087abb84dfb": {
          "model_module": "@jupyter-widgets/base",
          "model_module_version": "1.2.0",
          "model_name": "LayoutModel",
          "state": {
            "_model_module": "@jupyter-widgets/base",
            "_model_module_version": "1.2.0",
            "_model_name": "LayoutModel",
            "_view_count": null,
            "_view_module": "@jupyter-widgets/base",
            "_view_module_version": "1.2.0",
            "_view_name": "LayoutView",
            "align_content": null,
            "align_items": null,
            "align_self": null,
            "border": null,
            "bottom": null,
            "display": null,
            "flex": null,
            "flex_flow": null,
            "grid_area": null,
            "grid_auto_columns": null,
            "grid_auto_flow": null,
            "grid_auto_rows": null,
            "grid_column": null,
            "grid_gap": null,
            "grid_row": null,
            "grid_template_areas": null,
            "grid_template_columns": null,
            "grid_template_rows": null,
            "height": null,
            "justify_content": null,
            "justify_items": null,
            "left": null,
            "margin": null,
            "max_height": null,
            "max_width": null,
            "min_height": null,
            "min_width": null,
            "object_fit": null,
            "object_position": null,
            "order": null,
            "overflow": null,
            "overflow_x": null,
            "overflow_y": null,
            "padding": null,
            "right": null,
            "top": null,
            "visibility": null,
            "width": null
          }
        },
        "d3d028fe99f4446680ceab149fd5b854": {
          "model_module": "@jupyter-widgets/base",
          "model_module_version": "1.2.0",
          "model_name": "LayoutModel",
          "state": {
            "_model_module": "@jupyter-widgets/base",
            "_model_module_version": "1.2.0",
            "_model_name": "LayoutModel",
            "_view_count": null,
            "_view_module": "@jupyter-widgets/base",
            "_view_module_version": "1.2.0",
            "_view_name": "LayoutView",
            "align_content": null,
            "align_items": null,
            "align_self": null,
            "border": null,
            "bottom": null,
            "display": null,
            "flex": null,
            "flex_flow": null,
            "grid_area": null,
            "grid_auto_columns": null,
            "grid_auto_flow": null,
            "grid_auto_rows": null,
            "grid_column": null,
            "grid_gap": null,
            "grid_row": null,
            "grid_template_areas": null,
            "grid_template_columns": null,
            "grid_template_rows": null,
            "height": null,
            "justify_content": null,
            "justify_items": null,
            "left": null,
            "margin": null,
            "max_height": null,
            "max_width": null,
            "min_height": null,
            "min_width": null,
            "object_fit": null,
            "object_position": null,
            "order": null,
            "overflow": null,
            "overflow_x": null,
            "overflow_y": null,
            "padding": null,
            "right": null,
            "top": null,
            "visibility": null,
            "width": null
          }
        },
        "d68afef6026b4a769a2aea5513b1c5ab": {
          "model_module": "@jupyter-widgets/controls",
          "model_module_version": "1.5.0",
          "model_name": "DescriptionStyleModel",
          "state": {
            "_model_module": "@jupyter-widgets/controls",
            "_model_module_version": "1.5.0",
            "_model_name": "DescriptionStyleModel",
            "_view_count": null,
            "_view_module": "@jupyter-widgets/base",
            "_view_module_version": "1.2.0",
            "_view_name": "StyleView",
            "description_width": ""
          }
        },
        "dc08fcbccf914afd81a1f8850496e3a7": {
          "model_module": "@jupyter-widgets/controls",
          "model_module_version": "1.5.0",
          "model_name": "DescriptionStyleModel",
          "state": {
            "_model_module": "@jupyter-widgets/controls",
            "_model_module_version": "1.5.0",
            "_model_name": "DescriptionStyleModel",
            "_view_count": null,
            "_view_module": "@jupyter-widgets/base",
            "_view_module_version": "1.2.0",
            "_view_name": "StyleView",
            "description_width": ""
          }
        },
        "dd3b0597c4874fcdb7f18255bd6d90c4": {
          "model_module": "@jupyter-widgets/base",
          "model_module_version": "1.2.0",
          "model_name": "LayoutModel",
          "state": {
            "_model_module": "@jupyter-widgets/base",
            "_model_module_version": "1.2.0",
            "_model_name": "LayoutModel",
            "_view_count": null,
            "_view_module": "@jupyter-widgets/base",
            "_view_module_version": "1.2.0",
            "_view_name": "LayoutView",
            "align_content": null,
            "align_items": null,
            "align_self": null,
            "border": null,
            "bottom": null,
            "display": null,
            "flex": null,
            "flex_flow": null,
            "grid_area": null,
            "grid_auto_columns": null,
            "grid_auto_flow": null,
            "grid_auto_rows": null,
            "grid_column": null,
            "grid_gap": null,
            "grid_row": null,
            "grid_template_areas": null,
            "grid_template_columns": null,
            "grid_template_rows": null,
            "height": null,
            "justify_content": null,
            "justify_items": null,
            "left": null,
            "margin": null,
            "max_height": null,
            "max_width": null,
            "min_height": null,
            "min_width": null,
            "object_fit": null,
            "object_position": null,
            "order": null,
            "overflow": null,
            "overflow_x": null,
            "overflow_y": null,
            "padding": null,
            "right": null,
            "top": null,
            "visibility": null,
            "width": null
          }
        },
        "df25d5541edf4facb6cf69b6ece2f60f": {
          "model_module": "@jupyter-widgets/controls",
          "model_module_version": "1.5.0",
          "model_name": "HTMLModel",
          "state": {
            "_dom_classes": [],
            "_model_module": "@jupyter-widgets/controls",
            "_model_module_version": "1.5.0",
            "_model_name": "HTMLModel",
            "_view_count": null,
            "_view_module": "@jupyter-widgets/controls",
            "_view_module_version": "1.5.0",
            "_view_name": "HTMLView",
            "description": "",
            "description_tooltip": null,
            "layout": "IPY_MODEL_661e071142d3438f8fdbcebff30215ea",
            "placeholder": "​",
            "style": "IPY_MODEL_26a6c1b399f944989255512d752dd556",
            "value": " 1.39G/1.39G [00:15&lt;00:00, 26.0MB/s]"
          }
        },
        "e4ac84277ffb4f56949bb925c5c5e843": {
          "model_module": "@jupyter-widgets/controls",
          "model_module_version": "1.5.0",
          "model_name": "HBoxModel",
          "state": {
            "_dom_classes": [],
            "_model_module": "@jupyter-widgets/controls",
            "_model_module_version": "1.5.0",
            "_model_name": "HBoxModel",
            "_view_count": null,
            "_view_module": "@jupyter-widgets/controls",
            "_view_module_version": "1.5.0",
            "_view_name": "HBoxView",
            "box_style": "",
            "children": [
              "IPY_MODEL_654f7d1c0aa24cb7bc2152cdf9f11b83",
              "IPY_MODEL_3c652b222f5b4c12ab03aa88b89b5046",
              "IPY_MODEL_e9077ed670d44f6080e0cf0b8127e100"
            ],
            "layout": "IPY_MODEL_79a507e552a3440a8d5b2b5430d3f4a0"
          }
        },
        "e610afe9dd40423998a599e7bec8796e": {
          "model_module": "@jupyter-widgets/base",
          "model_module_version": "1.2.0",
          "model_name": "LayoutModel",
          "state": {
            "_model_module": "@jupyter-widgets/base",
            "_model_module_version": "1.2.0",
            "_model_name": "LayoutModel",
            "_view_count": null,
            "_view_module": "@jupyter-widgets/base",
            "_view_module_version": "1.2.0",
            "_view_name": "LayoutView",
            "align_content": null,
            "align_items": null,
            "align_self": null,
            "border": null,
            "bottom": null,
            "display": null,
            "flex": null,
            "flex_flow": null,
            "grid_area": null,
            "grid_auto_columns": null,
            "grid_auto_flow": null,
            "grid_auto_rows": null,
            "grid_column": null,
            "grid_gap": null,
            "grid_row": null,
            "grid_template_areas": null,
            "grid_template_columns": null,
            "grid_template_rows": null,
            "height": null,
            "justify_content": null,
            "justify_items": null,
            "left": null,
            "margin": null,
            "max_height": null,
            "max_width": null,
            "min_height": null,
            "min_width": null,
            "object_fit": null,
            "object_position": null,
            "order": null,
            "overflow": null,
            "overflow_x": null,
            "overflow_y": null,
            "padding": null,
            "right": null,
            "top": null,
            "visibility": null,
            "width": null
          }
        },
        "e9077ed670d44f6080e0cf0b8127e100": {
          "model_module": "@jupyter-widgets/controls",
          "model_module_version": "1.5.0",
          "model_name": "HTMLModel",
          "state": {
            "_dom_classes": [],
            "_model_module": "@jupyter-widgets/controls",
            "_model_module_version": "1.5.0",
            "_model_name": "HTMLModel",
            "_view_count": null,
            "_view_module": "@jupyter-widgets/controls",
            "_view_module_version": "1.5.0",
            "_view_name": "HTMLView",
            "description": "",
            "description_tooltip": null,
            "layout": "IPY_MODEL_14b20fe5fe5549818c2e1948408a18fe",
            "placeholder": "​",
            "style": "IPY_MODEL_1da402e29b9a4d778a584cd464c75c12",
            "value": " 3.13G/3.13G [00:36&lt;00:00, 93.2MB/s]"
          }
        },
        "f6faa489f347463d8b94b1fb3210de25": {
          "model_module": "@jupyter-widgets/controls",
          "model_module_version": "1.5.0",
          "model_name": "ProgressStyleModel",
          "state": {
            "_model_module": "@jupyter-widgets/controls",
            "_model_module_version": "1.5.0",
            "_model_name": "ProgressStyleModel",
            "_view_count": null,
            "_view_module": "@jupyter-widgets/base",
            "_view_module_version": "1.2.0",
            "_view_name": "StyleView",
            "bar_color": null,
            "description_width": ""
          }
        },
        "fde739e405d04e929c10aaee5eca05fa": {
          "model_module": "@jupyter-widgets/base",
          "model_module_version": "1.2.0",
          "model_name": "LayoutModel",
          "state": {
            "_model_module": "@jupyter-widgets/base",
            "_model_module_version": "1.2.0",
            "_model_name": "LayoutModel",
            "_view_count": null,
            "_view_module": "@jupyter-widgets/base",
            "_view_module_version": "1.2.0",
            "_view_name": "LayoutView",
            "align_content": null,
            "align_items": null,
            "align_self": null,
            "border": null,
            "bottom": null,
            "display": null,
            "flex": null,
            "flex_flow": null,
            "grid_area": null,
            "grid_auto_columns": null,
            "grid_auto_flow": null,
            "grid_auto_rows": null,
            "grid_column": null,
            "grid_gap": null,
            "grid_row": null,
            "grid_template_areas": null,
            "grid_template_columns": null,
            "grid_template_rows": null,
            "height": null,
            "justify_content": null,
            "justify_items": null,
            "left": null,
            "margin": null,
            "max_height": null,
            "max_width": null,
            "min_height": null,
            "min_width": null,
            "object_fit": null,
            "object_position": null,
            "order": null,
            "overflow": null,
            "overflow_x": null,
            "overflow_y": null,
            "padding": null,
            "right": null,
            "top": null,
            "visibility": null,
            "width": null
          }
        }
      }
    }
  },
  "nbformat": 4,
  "nbformat_minor": 0
}
